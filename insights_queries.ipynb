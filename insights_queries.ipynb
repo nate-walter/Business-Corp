{
 "cells": [
  {
   "cell_type": "markdown",
   "metadata": {},
   "source": [
    "### Find Total Transaction Amount by Account Type:"
   ]
  },
  {
   "cell_type": "code",
   "execution_count": 5,
   "metadata": {},
   "outputs": [
    {
     "ename": "IndentationError",
     "evalue": "unexpected indent (1805986214.py, line 2)",
     "output_type": "error",
     "traceback": [
      "\u001b[1;36m  Cell \u001b[1;32mIn[5], line 2\u001b[1;36m\u001b[0m\n\u001b[1;33m    a.account_type,\u001b[0m\n\u001b[1;37m    ^\u001b[0m\n\u001b[1;31mIndentationError\u001b[0m\u001b[1;31m:\u001b[0m unexpected indent\n"
     ]
    }
   ],
   "source": [
    "SELECT\n",
    "    a.account_type,\n",
    "    SUM(t.amount) AS total_transaction_amount\n",
    "FROM\n",
    "    transactions t\n",
    "JOIN\n",
    "    accounts a ON t.account_id = a.account_id\n",
    "GROUP BY\n",
    "    a.account_type;\n"
   ]
  },
  {
   "cell_type": "markdown",
   "metadata": {},
   "source": [
    "### Identify Top 10 Customers with Highest Transaction Amount:"
   ]
  },
  {
   "cell_type": "code",
   "execution_count": 6,
   "metadata": {},
   "outputs": [
    {
     "ename": "IndentationError",
     "evalue": "unexpected indent (3381216023.py, line 2)",
     "output_type": "error",
     "traceback": [
      "\u001b[1;36m  Cell \u001b[1;32mIn[6], line 2\u001b[1;36m\u001b[0m\n\u001b[1;33m    c.customer_id,\u001b[0m\n\u001b[1;37m    ^\u001b[0m\n\u001b[1;31mIndentationError\u001b[0m\u001b[1;31m:\u001b[0m unexpected indent\n"
     ]
    }
   ],
   "source": [
    "SELECT\n",
    "    c.customer_id,\n",
    "    c.name AS customer_name,\n",
    "    SUM(t.amount) AS total_transaction_amount\n",
    "FROM\n",
    "    transactions t\n",
    "JOIN\n",
    "    accounts a ON t.account_id = a.account_id\n",
    "JOIN\n",
    "    customers c ON a.customer_id = c.customer_id\n",
    "GROUP BY\n",
    "    c.customer_id,\n",
    "    c.name\n",
    "ORDER BY\n",
    "    total_transaction_amount DESC\n",
    "LIMIT 10;\n"
   ]
  },
  {
   "cell_type": "markdown",
   "metadata": {},
   "source": [
    "### Calculate Average Transaction Amount Over Time:"
   ]
  },
  {
   "cell_type": "code",
   "execution_count": 7,
   "metadata": {},
   "outputs": [
    {
     "ename": "IndentationError",
     "evalue": "unexpected indent (2168240648.py, line 2)",
     "output_type": "error",
     "traceback": [
      "\u001b[1;36m  Cell \u001b[1;32mIn[7], line 2\u001b[1;36m\u001b[0m\n\u001b[1;33m    DATE(t.timestamp) AS transaction_date,\u001b[0m\n\u001b[1;37m    ^\u001b[0m\n\u001b[1;31mIndentationError\u001b[0m\u001b[1;31m:\u001b[0m unexpected indent\n"
     ]
    }
   ],
   "source": [
    "SELECT\n",
    "    DATE(t.timestamp) AS transaction_date,\n",
    "    AVG(t.amount) AS avg_transaction_amount\n",
    "FROM\n",
    "    transactions t\n",
    "GROUP BY\n",
    "    DATE(t.timestamp)\n",
    "ORDER BY\n",
    "    transaction_date;"
   ]
  },
  {
   "cell_type": "markdown",
   "metadata": {},
   "source": [
    "### Rank Customers by Total Transaction Amount Using Window Functions:"
   ]
  },
  {
   "cell_type": "code",
   "execution_count": 8,
   "metadata": {},
   "outputs": [
    {
     "ename": "IndentationError",
     "evalue": "unexpected indent (2531917639.py, line 2)",
     "output_type": "error",
     "traceback": [
      "\u001b[1;36m  Cell \u001b[1;32mIn[8], line 2\u001b[1;36m\u001b[0m\n\u001b[1;33m    customer_id,\u001b[0m\n\u001b[1;37m    ^\u001b[0m\n\u001b[1;31mIndentationError\u001b[0m\u001b[1;31m:\u001b[0m unexpected indent\n"
     ]
    }
   ],
   "source": [
    "SELECT\n",
    "    customer_id,\n",
    "    customer_name,\n",
    "    total_transaction_amount,\n",
    "    RANK() OVER (ORDER BY total_transaction_amount DESC) AS rank_by_total_amount\n",
    "FROM (\n",
    "    SELECT\n",
    "        c.customer_id,\n",
    "        c.name AS customer_name,\n",
    "        SUM(t.amount) AS total_transaction_amount\n",
    "    FROM\n",
    "        transactions t\n",
    "    JOIN\n",
    "        accounts a ON t.account_id = a.account_id\n",
    "    JOIN\n",
    "        customers c ON a.customer_id = c.customer_id\n",
    "    GROUP BY\n",
    "        c.customer_id,\n",
    "        c.name\n",
    ") AS customer_totals;"
   ]
  },
  {
   "cell_type": "code",
   "execution_count": null,
   "metadata": {},
   "outputs": [],
   "source": []
  }
 ],
 "metadata": {
  "kernelspec": {
   "display_name": "Python 3",
   "language": "python",
   "name": "python3"
  },
  "language_info": {
   "codemirror_mode": {
    "name": "ipython",
    "version": 3
   },
   "file_extension": ".py",
   "mimetype": "text/x-python",
   "name": "python",
   "nbconvert_exporter": "python",
   "pygments_lexer": "ipython3",
   "version": "3.10.2"
  }
 },
 "nbformat": 4,
 "nbformat_minor": 2
}
